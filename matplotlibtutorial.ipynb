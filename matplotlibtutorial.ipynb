{
  "nbformat": 4,
  "nbformat_minor": 0,
  "metadata": {
    "colab": {
      "name": "matplotlibtutorial.ipynb",
      "provenance": [],
      "authorship_tag": "ABX9TyNkVuELXzhnPB0bFVcytMi3",
      "include_colab_link": true
    },
    "kernelspec": {
      "name": "python3",
      "display_name": "Python 3"
    },
    "language_info": {
      "name": "python"
    }
  },
  "cells": [
    {
      "cell_type": "markdown",
      "metadata": {
        "id": "view-in-github",
        "colab_type": "text"
      },
      "source": [
        "<a href=\"https://colab.research.google.com/github/clearnandtrain/matplotlibtutorial/blob/main/matplotlibtutorial.ipynb\" target=\"_parent\"><img src=\"https://colab.research.google.com/assets/colab-badge.svg\" alt=\"Open In Colab\"/></a>"
      ]
    },
    {
      "cell_type": "markdown",
      "metadata": {
        "id": "HVNtyMiXcEa0"
      },
      "source": [
        "# Matplotlib (What is it?)\n",
        "\n",
        "Comprehensive library for creating static, animated, and interactive visualizations in Python"
      ]
    },
    {
      "cell_type": "markdown",
      "metadata": {
        "id": "R6Ugx9xJfNV6"
      },
      "source": [
        "## Goals for this tutorial\n",
        "1. Gain more experience working with Matplotlib\n",
        "2. Investigate ways to visulaize security events in log files (Windows 10)"
      ]
    },
    {
      "cell_type": "markdown",
      "metadata": {
        "id": "qKTt7YshgySR"
      },
      "source": [
        "### Let's get started by importing libraries and setting up our jupter notebook environment for matplotlib"
      ]
    },
    {
      "cell_type": "code",
      "metadata": {
        "id": "hxxH5Ub2hRNO"
      },
      "source": [
        "import matplotlib.pyplot as plt\n",
        "import numpy as np\n",
        "import pandas as pd\n",
        "\n",
        "%matplotlib inline\n",
        "%reload_ext autoreload\n",
        "%autoreload 2"
      ],
      "execution_count": 2,
      "outputs": []
    },
    {
      "cell_type": "markdown",
      "metadata": {
        "id": "nNpkVn1Uhl2H"
      },
      "source": [
        "#### Create a simple plot (Functional Plot)"
      ]
    },
    {
      "cell_type": "code",
      "metadata": {
        "id": "O1dTwVPminvt",
        "outputId": "59b0551a-a607-42f7-b891-7bdc8642d86c",
        "colab": {
          "base_uri": "https://localhost:8080/",
          "height": 312
        }
      },
      "source": [
        "# create x and y numpy arrays\n",
        "x_1 = np.linspace(0, 5, 10)   # this generates 10 floats from 0 to 5 for x\n",
        "y_1 = x_1**2                  # this generates y values by squaring x values\n",
        "\n",
        "# now to display this plot of x and y\n",
        "plt.plot(x_1, y_1)\n",
        "\n",
        "# add titles\n",
        "plt.title('Days Squared Chart')\n",
        "\n",
        "# add x and y lables\n",
        "plt.xlabel('Days')\n",
        "plt.ylabel(\"Days Squard\")"
      ],
      "execution_count": 5,
      "outputs": [
        {
          "output_type": "execute_result",
          "data": {
            "text/plain": [
              "Text(0, 0.5, 'Days Squard')"
            ]
          },
          "metadata": {},
          "execution_count": 5
        },
        {
          "output_type": "display_data",
          "data": {
            "image/png": "[encoded data removed]",
            "text/plain": [
              "<Figure size 432x288 with 1 Axes>"
            ]
          },
          "metadata": {
            "needs_background": "light"
          }
        }
      ]
    },
    {
      "cell_type": "markdown",
      "metadata": {
        "id": "jlUQUXhijyDV"
      },
      "source": [
        "#### Let's now print multiple plots (Print Multiple Plots)"
      ]
    },
    {
      "cell_type": "code",
      "metadata": {
        "id": "5WuWpeDxlv9o",
        "outputId": "fb276a7b-998e-4dd2-eea1-db180ff306be",
        "colab": {
          "base_uri": "https://localhost:8080/",
          "height": 282
        }
      },
      "source": [
        "plt.subplot(1, 2, 1)\n",
        "plt.plot(x_1, y_1, 'r')\n",
        "plt.subplot(1, 2, 2)\n",
        "plt.plot(x_1, y_1, 'b')"
      ],
      "execution_count": 8,
      "outputs": [
        {
          "output_type": "execute_result",
          "data": {
            "text/plain": [
              "[<matplotlib.lines.Line2D at 0x7f68caaa9150>]"
            ]
          },
          "metadata": {},
          "execution_count": 8
        },
        {
          "output_type": "display_data",
          "data": {
            "image/png": "[encoded data removed]",
            "text/plain": [
              "<Figure size 432x288 with 2 Axes>"
            ]
          },
          "metadata": {
            "needs_background": "light"
          }
        }
      ]
    },
    {
      "cell_type": "code",
      "metadata": {
        "id": "Kp3qnByhm4AA"
      },
      "source": [
        ""
      ],
      "execution_count": null,
      "outputs": []
    }
  ]
}